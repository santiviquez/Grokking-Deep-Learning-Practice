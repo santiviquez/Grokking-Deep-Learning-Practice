{
 "cells": [
  {
   "cell_type": "markdown",
   "metadata": {},
   "source": [
    "## Three-layer network on MNIST"
   ]
  },
  {
   "cell_type": "code",
   "execution_count": 67,
   "metadata": {},
   "outputs": [
    {
     "name": "stderr",
     "output_type": "stream",
     "text": [
      "/anaconda2/envs/py3/lib/python3.6/site-packages/ipykernel_launcher.py:21: RuntimeWarning: invalid value encountered in greater_equal\n",
      "/anaconda2/envs/py3/lib/python3.6/site-packages/ipykernel_launcher.py:22: RuntimeWarning: invalid value encountered in greater_equal\n"
     ]
    }
   ],
   "source": [
    "import sys, numpy as np\n",
    "from keras.datasets import mnist\n",
    "\n",
    "(x_train, y_train), (x_test, y_test) = mnist.load_data()\n",
    "\n",
    "images, labels = (x_train[0:1000].reshape(1000, 28*28) / 255, y_train[0:1000])\n",
    "\n",
    "one_hot_labels = np.zeros((len(labels), 10))\n",
    "\n",
    "for i, l in enumerate(labels):\n",
    "    one_hot_labels[i][l] = l\n",
    "labels = one_hot_labels\n",
    "\n",
    "test_images = x_test.reshape(len(x_test), 28*28) / 255\n",
    "test_labels = np.zeros((len(y_test), 10))\n",
    "\n",
    "for i, l in enumerate(y_test):\n",
    "    test_labels[i][l] = l\n",
    "\n",
    "np.random.seed(1)\n",
    "relu = lambda x: (x >= 0)*x\n",
    "relu2deriv = lambda x: x >= 0\n",
    "alpha, iterations, hidden_size, pixels_per_image, num_labels = (0.005, 350, 40, 784, 10)\n",
    "\n",
    "weights_0_1 = 0.2*np.random.random((pixels_per_image, hidden_size)) - 0.1\n",
    "weights_1_2 = 0.2*np.random.random((hidden_size, num_labels)) - 0.1\n",
    "\n",
    "for j in range(iterations):\n",
    "    error, cnt_correct = (0.0, 0)\n",
    "    \n",
    "    for i in range(len(images)):\n",
    "        layer_0 = images[i:i+1]\n",
    "        layer_1 = relu(np.dot(layer_0, weights_0_1))\n",
    "        layer_2 = np.dot(layer_1, weights_1_2)\n",
    "    \n",
    "        error += np.sum((layer_2 - labels[i:i+1])**2)\n",
    "        cnt_correct += int(np.argmax(layer_2)) == np.argmax(labels[i:i+1])\n",
    "        \n",
    "        layer_2_delta = layer_2 - labels[i:i+1]\n",
    "        layer_1_delta = np.dot(layer_2_delta, weights_1_2.T)*relu2deriv(layer_1)\n",
    "        \n",
    "        weights_1_2 += layer_1.T.dot(layer_2_delta)*alpha\n",
    "        weights_0_1 += layer_0.T.dot(layer_1_delta)*alpha\n",
    "    \n",
    "    sys.stdout.write(\"\\r\" + \\\n",
    "                    \" I: \" + str(j) + \\\n",
    "                    \" Error: \" + str(error) + \\\n",
    "                    \" Correct\")"
   ]
  }
 ],
 "metadata": {
  "kernelspec": {
   "display_name": "Python 3",
   "language": "python",
   "name": "python3"
  },
  "language_info": {
   "codemirror_mode": {
    "name": "ipython",
    "version": 3
   },
   "file_extension": ".py",
   "mimetype": "text/x-python",
   "name": "python",
   "nbconvert_exporter": "python",
   "pygments_lexer": "ipython3",
   "version": "3.6.4"
  }
 },
 "nbformat": 4,
 "nbformat_minor": 2
}
