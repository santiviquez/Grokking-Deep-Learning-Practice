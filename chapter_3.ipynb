{
 "cells": [
  {
   "cell_type": "markdown",
   "metadata": {},
   "source": [
    "# The Simplest Neural Network Making a Prediction"
   ]
  },
  {
   "cell_type": "markdown",
   "metadata": {},
   "source": [
    "Let's start with a NN that takes only one data point and outputs a prediction, this means we only need one weight."
   ]
  },
  {
   "cell_type": "code",
   "execution_count": 5,
   "metadata": {},
   "outputs": [
    {
     "name": "stdout",
     "output_type": "stream",
     "text": [
      "0.8500000000000001\n"
     ]
    }
   ],
   "source": [
    "#Network\n",
    "weight = 0.1\n",
    "def neural_network(input, weight):\n",
    "    prediction = input*weight\n",
    "    return prediction\n",
    "\n",
    "#Input Data\n",
    "number_of_toes = [8.5, 9.5,10,9]\n",
    "input =  number_of_toes[0]\n",
    "\n",
    "#Prediction\n",
    "pred = neural_network(input, weight)\n",
    "print(pred)"
   ]
  },
  {
   "cell_type": "markdown",
   "metadata": {},
   "source": [
    "# Making A Predction with Multiple Inputs"
   ]
  },
  {
   "cell_type": "markdown",
   "metadata": {},
   "source": [
    "With regular Python"
   ]
  },
  {
   "cell_type": "code",
   "execution_count": 28,
   "metadata": {},
   "outputs": [
    {
     "name": "stdout",
     "output_type": "stream",
     "text": [
      "0.9800000000000001\n"
     ]
    }
   ],
   "source": [
    "def w_sum(a, b):\n",
    "    output = 0\n",
    "    assert(len(a) == len(b))\n",
    "    for i in range(len(a)):\n",
    "        output += (a[i]*b[i])\n",
    "    return output\n",
    "\n",
    "weights = [0.1, 0.2, 0]\n",
    "def neural_network(input, weights):\n",
    "    pred = w_sum(input, weights)\n",
    "    return pred\n",
    "\n",
    "# This dataset is the current\n",
    "# status at the beginning of\n",
    "# each game for the first 4 games\n",
    "# in a season.\n",
    "# toes = current number of toes\n",
    "# wlrec = current games won (percent)\n",
    "# nfans = fan count (in millions)\n",
    "\n",
    "toes = [8.5, 9.5, 9.9, 9.0]\n",
    "wlrec = [0.65, 0.8, 0.8, 0.9]\n",
    "nfans = [1.2, 1.3, 0.5, 1.0]\n",
    "\n",
    "input = [toes[0], wlrec[0], nfans[0]]\n",
    "pred = neural_network(input, weights)\n",
    "print(pred)"
   ]
  },
  {
   "cell_type": "markdown",
   "metadata": {},
   "source": [
    "### Challenge: Math Vector"
   ]
  },
  {
   "cell_type": "markdown",
   "metadata": {},
   "source": [
    "Being able to manipulate vectors is a cornerstone technique for Deep Learning.\n",
    "See if you can write functions that perform the following operations:\n",
    "\n",
    "`def elementwise_multiplication(vec_a, vec_b)\t\n",
    "def elementwise_addition(vec_a, vec_b) \t\t\n",
    "def vector_sum(vec_a)\n",
    "def vector_average(vec_a)`\n",
    "\n",
    "Then, see if you can use two of these methods to perform a dot product!"
   ]
  },
  {
   "cell_type": "code",
   "execution_count": 52,
   "metadata": {},
   "outputs": [
    {
     "name": "stdout",
     "output_type": "stream",
     "text": [
      "[4, 10, 18]\n",
      "[5, 7, 9]\n",
      "6\n",
      "2.0\n",
      "32\n",
      "32\n"
     ]
    }
   ],
   "source": [
    "vec_a = [1,2,3]\n",
    "vec_b = [4,5,6]\n",
    "\n",
    "def elemetwise_multiplication(a, b):\n",
    "    output = []\n",
    "    for i in range(len(a)):\n",
    "        output.append(a[i]*b[i])\n",
    "    return output\n",
    "\n",
    "def elemetwise_addition(a, b):\n",
    "    output = []\n",
    "    for i in range(len(a)):\n",
    "        output.append(a[i]+b[i])\n",
    "    return output\n",
    "\n",
    "def vector_sum(a):\n",
    "    output = 0\n",
    "    for i in range(len(a)):\n",
    "        output += a[i]\n",
    "    return output\n",
    "\n",
    "def vector_average(a):\n",
    "    output = 0\n",
    "    for i in range(len(a)):\n",
    "        output += a[i]/float(len(a))\n",
    "    return output  \n",
    "\n",
    "def product_dot(a, b):\n",
    "    vec = elemetwise_multiplication(a,b)\n",
    "    dot = vector_sum(vec)\n",
    "    return dot\n",
    "    \n",
    "print(elemetwise_multiplication(vec_a, vec_b))\n",
    "print(elemetwise_addition(vec_a, vec_b))\n",
    "print(vector_sum(vec_a))\n",
    "print(vector_average(vec_a))\n",
    "print(product_dot(vec_a,vec_b))\n",
    "\n",
    "#Let's check our product_dot() function with actual numpy dot function\n",
    "import numpy as np\n",
    "np_vec_a = np.array([1,2,3])\n",
    "np_vec_b = np.array([4,5,6])\n",
    "print(np.dot(np_vec_a, np_vec_b))"
   ]
  },
  {
   "cell_type": "markdown",
   "metadata": {},
   "source": [
    "With Numpy"
   ]
  },
  {
   "cell_type": "code",
   "execution_count": 1,
   "metadata": {},
   "outputs": [
    {
     "name": "stdout",
     "output_type": "stream",
     "text": [
      "0.98\n"
     ]
    }
   ],
   "source": [
    "import numpy as np\n",
    "\n",
    "weights = np.array([0.1, 0.2, 0])\n",
    "def neural_network(input, weights):\n",
    "    #We do not need the w_sum finction, just np.dot\n",
    "    pred = np.dot(input, weights)\n",
    "    return pred\n",
    "\n",
    "toes = np.array([8.5, 9.5, 9.9, 9.0])\n",
    "wlrec = np.array([0.65, 0.8, 0.8, 0.9])\n",
    "nfans =np.array([1.2, 1.3, 0.5, 1.0])\n",
    "\n",
    "input = [toes[0], wlrec[0], nfans[0]]\n",
    "pred = neural_network(input, weights)\n",
    "print(pred)"
   ]
  },
  {
   "cell_type": "markdown",
   "metadata": {},
   "source": [
    "# Making a Prediction with Multiple Outputs"
   ]
  },
  {
   "cell_type": "code",
   "execution_count": 7,
   "metadata": {},
   "outputs": [
    {
     "name": "stdout",
     "output_type": "stream",
     "text": [
      "[0.195, 0.13, 0.5850000000000001]\n"
     ]
    }
   ],
   "source": [
    "weights = [0.3, 0.2, 0.9]\n",
    "\n",
    "def neural_network(input, weights):\n",
    "    pred = ele_mul(input, weights)\n",
    "    return pred\n",
    "\n",
    "def ele_mul(number, vector):\n",
    "    output = [0,0,0]\n",
    "    for i in range(len(vector)):\n",
    "        output[i] = number*vector[i]\n",
    "    return output\n",
    "\n",
    "wlrec = [0.65, 0.8, 0.8, 0.9]\n",
    "input = wlrec[0]\n",
    "pred = neural_network(input, weights)\n",
    "print(pred)"
   ]
  },
  {
   "cell_type": "markdown",
   "metadata": {},
   "source": [
    "# Prediction with Multiple Inputs And Outputs"
   ]
  },
  {
   "cell_type": "code",
   "execution_count": 16,
   "metadata": {},
   "outputs": [
    {
     "name": "stdout",
     "output_type": "stream",
     "text": [
      "[0.555, 0.9800000000000001, 0.9650000000000001]\n"
     ]
    }
   ],
   "source": [
    "#toes %win #fans    \n",
    "weights = [[0.1, 0.1, -0.3],#hurt\n",
    "           [0.1, 0.2, 0.0], #win\n",
    "           [0.0, 1.3, 0.1]] #sad\n",
    "\n",
    "def neural_network(input, weights):\n",
    "    pred = vect_mat_mul(input, weights)\n",
    "    return pred\n",
    "\n",
    "def vect_mat_mul(vect, matrix):\n",
    "    output = []\n",
    "    for i in range(len(vect)):\n",
    "        val = 0\n",
    "        for j in range(len(vect)):\n",
    "            val += matrix[i][j]*vect[j]\n",
    "        output.append(val)\n",
    "    return output\n",
    "\n",
    "toes = [8.5, 9.5, 9.9, 9.0]\n",
    "wlrec = [0.65, 0.8, 0.8, 0.9]\n",
    "nfans = [1.2, 1.3, 0.5, 1.0]\n",
    "\n",
    "input = [toes[0], wlrec[0], nfans[0]]\n",
    "\n",
    "pred = neural_network(input, weights)\n",
    "print(pred)"
   ]
  },
  {
   "cell_type": "markdown",
   "metadata": {},
   "source": [
    "# Predicting on Predictions (Hidden Layers)"
   ]
  },
  {
   "cell_type": "code",
   "execution_count": 36,
   "metadata": {},
   "outputs": [
    {
     "name": "stdout",
     "output_type": "stream",
     "text": [
      "[ 0.496  1.256 -0.286]\n"
     ]
    }
   ],
   "source": [
    "import numpy as np\n",
    "\n",
    "#input hidden \n",
    "ih_wgt = np.array([[0.1, 0.2, -0.1],\n",
    "          [-0.1, 0.1, 0.9],\n",
    "          [0.1, 0.4, 0.1]])\n",
    "\n",
    "#output hidden\n",
    "hp_wgt = np.array([[0.3, 1.1, -0.3],\n",
    "          [0.1, 0.2, 0.0],\n",
    "          [0.0, 1.3, 0.1]])\n",
    "\n",
    "weights = np.array([ih_wgt, hp_wgt])\n",
    "\n",
    "def neural_network(input, weights):\n",
    "    hid = np.dot(input, weights[0])\n",
    "    pred = np.dot(hid, weights[1])\n",
    "    return pred\n",
    "\n",
    "toes = np.array([8.5, 9.5, 9.9, 9.0])\n",
    "wlrec = np.array([0.65, 0.8, 0.8, 0.9])\n",
    "nfans = np.array([1.2, 1.3, 0.5, 1.0])\n",
    "\n",
    "input = np.array([toes[0], wlrec[0], nfans[0]])\n",
    "\n",
    "pred = neural_network(input, weights)\n",
    "print(pred)"
   ]
  }
 ],
 "metadata": {
  "kernelspec": {
   "display_name": "Python [default]",
   "language": "python",
   "name": "python3"
  },
  "language_info": {
   "codemirror_mode": {
    "name": "ipython",
    "version": 3
   },
   "file_extension": ".py",
   "mimetype": "text/x-python",
   "name": "python",
   "nbconvert_exporter": "python",
   "pygments_lexer": "ipython3",
   "version": "3.6.1"
  }
 },
 "nbformat": 4,
 "nbformat_minor": 2
}
